{
 "cells": [
  {
   "cell_type": "markdown",
   "id": "9d8e3c99",
   "metadata": {},
   "source": [
    "# Recipe Generator Using Custom Trained Model\n",
    "This notebook generates recipes based on user-provided ingredients using a custom trained model."
   ]
  },
  {
   "cell_type": "code",
   "execution_count": null,
   "id": "1d5022e5",
   "metadata": {},
   "outputs": [],
   "source": [
    "import pandas as pd\n",
    "import numpy as np\n",
    "from sklearn.feature_extraction.text import CountVectorizer\n",
    "from sklearn.model_selection import train_test_split\n",
    "from sklearn.ensemble import RandomForestClassifier\n",
    "from sklearn.preprocessing import LabelEncoder\n"
   ]
  },
  {
   "cell_type": "code",
   "execution_count": null,
   "id": "98799ead",
   "metadata": {},
   "outputs": [],
   "source": [
    "# Load and prepare data\n",
    "dataset = pd.read_csv(r\"/Users/edrikisaian/Documents/Advanced_AI/AdvancedAI_IndividualProject/data/recipes_data.csv\")\n",
    "dataset['ingredients_text'] = dataset['NER'].apply(lambda x: ' '.join(eval(x)))\n",
    "\n",
    "# Prepare features and labels\n",
    "vectorizer = CountVectorizer(max_features=1000)\n",
    "X = vectorizer.fit_transform(dataset['ingredients_text'])\n",
    "label_encoder = LabelEncoder()\n",
    "y = label_encoder.fit_transform(dataset['title'])\n",
    "\n",
    "# Train model\n",
    "X_train, X_test, y_train, y_test = train_test_split(X, y, test_size=0.2, random_state=42)\n",
    "model = RandomForestClassifier(n_estimators=100, random_state=42)\n",
    "model.fit(X_train, y_train)\n",
    "\n",
    "print(\"Model training complete.\")\n"
   ]
  },
  {
   "cell_type": "code",
   "execution_count": null,
   "id": "5297004c",
   "metadata": {},
   "outputs": [],
   "source": [
    "def get_users_ingredients():\n",
    "    users_ingredients = []\n",
    "    print(\"Enter the ingredients you have (type 'end' to finish):\")\n",
    "    while True:\n",
    "        user_input = input(\"Ingredient: \").strip().lower()\n",
    "        if user_input == 'end':\n",
    "            break\n",
    "        if user_input:\n",
    "            users_ingredients.append(user_input)\n",
    "    return users_ingredients\n"
   ]
  },
  {
   "cell_type": "code",
   "execution_count": null,
   "id": "459e662f",
   "metadata": {},
   "outputs": [],
   "source": [
    "def generate_recipe(ingredients):\n",
    "    # Convert ingredients to feature vector\n",
    "    ingredients_text = ' '.join(ingredients)\n",
    "    X_new = vectorizer.transform([ingredients_text])\n",
    "\n",
    "    # Get top 3 recipe predictions\n",
    "    proba = model.predict_proba(X_new)\n",
    "    top_indices = np.argsort(proba[0])[-3:][::-1]\n",
    "    recipes = label_encoder.inverse_transform(top_indices)\n",
    "\n",
    "    # Get recipe details from dataset\n",
    "    recipe_details = []\n",
    "    for recipe in recipes:\n",
    "        recipe_row = dataset[dataset['title'] == recipe].iloc[0]\n",
    "        details = f\"Recipe: {recipe}\\n\"\n",
    "        details += f\"Ingredients: {', '.join(eval(recipe_row['NER']))}\\n\"\n",
    "        details += f\"Directions: {recipe_row['directions']}\\n\"\n",
    "        recipe_details.append(details)\n",
    "\n",
    "    return '\\n\\n'.join(recipe_details)\n"
   ]
  },
  {
   "cell_type": "code",
   "execution_count": null,
   "id": "348868d1",
   "metadata": {},
   "outputs": [],
   "source": [
    "def main():\n",
    "    print(\"Welcome to the AI Recipe Generator!\")\n",
    "    ingredients = get_users_ingredients()\n",
    "    if not ingredients:\n",
    "        print(\"No ingredients provided. Exiting.\")\n",
    "        return\n",
    "    print(\"\\nGenerating recipe suggestions...\\n\")\n",
    "    try:\n",
    "        recipe = generate_recipe(ingredients)\n",
    "        print(\"Here are the recipe suggestions:\\n\")\n",
    "        print(recipe)\n",
    "    except Exception as e:\n",
    "        print(\"Error generating recipe:\\n\")\n",
    "        print(e)\n",
    "        print(\"\\nSorry, I couldn't generate a recipe. Please try again.\")\n"
   ]
  },
  {
   "cell_type": "code",
   "execution_count": null,
   "id": "1f6dddd2",
   "metadata": {},
   "outputs": [],
   "source": [
    "main()\n"
   ]
  }
 ],
 "metadata": {
  "kernelspec": {
   "display_name": "Python (venv311)",
   "language": "python",
   "name": "venv311"
  },
  "language_info": {
   "codemirror_mode": {
    "name": "ipython",
    "version": 3
   },
   "file_extension": ".py",
   "mimetype": "text/x-python",
   "name": "python",
   "nbconvert_exporter": "python",
   "pygments_lexer": "ipython3",
   "version": "3.11.12"
  }
 },
 "nbformat": 5,
 "nbformat_minor": 9
}
